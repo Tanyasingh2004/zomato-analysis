import pandas as pd
import matplotlib.pyplot as plt
import seaborn as sns
dataframe = pd.read_csv("Zomato data .csv")
print(dataframe)

def handlerate(value):
    value = str(value).split('/')
    value = value[0];
    return float(value)
dataframe['rate'] = dataframe['rate'].apply(handlerate)
print(dataframe.head())

dataframe.head()

sns.countplot(x=dataframe['listed_in(type)'])
plt.xlabel("type of resturant")

grouped_data = dataframe.groupby('listed_in(type)')['votes'].sum()
result = pd.DataFrame({'votes': grouped_data})
plt.plot(result, c="red",marker="o")
plt.xlabel("type of restaurant", c="green" , size=15)
plt.ylabel("votes", c="green", size=15)

plt.hist(dataframe['rate'],bins = 10)
plt.show()

couple_data = dataframe['approx_cost(for two people)']
sns.countplot(x=couple_data)

plt.figure(figsize = (6,6))
sns.boxplot(x = 'online_order', y='rate', data = dataframe)

pivot_table = dataframe.pivot_table(index='listed_in(type)', columns='online_order', aggfunc='size', fill_value=0)
sns.heatmap(pivot_table, annot=True, cmap="YlGnBu" , fmt='d')
plt.title("heatmap")
plt.xlabel("online order")
plt.ylabel("listed in (type)")
plt.show()
